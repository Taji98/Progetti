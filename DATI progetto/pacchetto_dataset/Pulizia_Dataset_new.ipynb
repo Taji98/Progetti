{
 "cells": [
  {
   "cell_type": "code",
   "execution_count": 1,
   "metadata": {},
   "outputs": [],
   "source": [
    "import numpy as np\n",
    "import pandas as pd\n",
    "import matplotlib.pyplot as plt\n",
    "import seaborn as sns"
   ]
  },
  {
   "cell_type": "code",
   "execution_count": 13,
   "metadata": {},
   "outputs": [],
   "source": [
    "# Dizionario di mapping delle sigle ai nomi completi degli stati\n",
    "country_names = {\n",
    "    \"Albania\": \"AL\",\n",
    "    \"Austria\": \"AT\",\n",
    "    \"Belgium\": \"BE\",\n",
    "    \"Bulgaria\": \"BG\",\n",
    "    \"Switzerland\": \"CH\",\n",
    "    \"Cyprus\": \"CY\",\n",
    "    \"Czechia\": \"CZ\",\n",
    "    \"Germany\": \"DE\",\n",
    "    \"Denmark\": \"DK\",\n",
    "    \"Estonia\": \"EE\",\n",
    "    \"Greece\": \"EL\",\n",
    "    \"Spain\": \"ES\",\n",
    "    \"Finland\": \"FI\",\n",
    "    \"France\": \"FR\",\n",
    "    \"Croatia\": \"HR\",\n",
    "    \"Hungary\": \"HU\",\n",
    "    \"Ireland\": \"IE\",\n",
    "    \"Iceland\": \"IS\",\n",
    "    \"Italy\": \"IT\",\n",
    "    \"Liechtenstein\": \"LI\",\n",
    "    \"Lithuania\": \"LT\",\n",
    "    \"Luxembourg\": \"LU\",\n",
    "    \"Latvia\": \"LV\",\n",
    "    \"Montenegro\": \"ME\",\n",
    "    \"North Macedonia\": \"MK\",\n",
    "    \"Malta\": \"MT\",\n",
    "    \"Netherlands\": \"NL\",\n",
    "    \"Norway\": \"NO\",\n",
    "    \"Poland\": \"PL\",\n",
    "    \"Portugal\": \"PT\",\n",
    "    \"Romania\": \"RO\",\n",
    "    \"Serbia\": \"RS\",\n",
    "    \"Sweden\": \"SE\",\n",
    "    \"Slovenia\": \"SI\",\n",
    "    \"Slovakia\": \"SK\",\n",
    "    \"Turkey\": \"TR\",\n",
    "    \"United Kingdom\": \"UK\"\n",
    "}\n"
   ]
  },
  {
   "cell_type": "code",
   "execution_count": null,
   "metadata": {},
   "outputs": [
    {
     "name": "stdout",
     "output_type": "stream",
     "text": [
      "          countries  year total_population   id sigle_paesi\n",
      "0           Belgium  2015        11.274,20    1          BE\n",
      "1          Bulgaria  2015         6.984,23    2          BG\n",
      "2           Czechia  2015        10.507,55    3          CZ\n",
      "3           Denmark  2015         5.682,45    4          DK\n",
      "4           Germany  2015        81.687,00    5          DE\n",
      "..              ...   ...              ...  ...         ...\n",
      "292   Liechtenstein  2023            40,99  293          LI\n",
      "293          Norway  2023         5.520,00  294          NO\n",
      "294     Switzerland  2023         8.915,29  295          CH\n",
      "295  United Kingdom  2023                :  296          UK\n",
      "296          Serbia  2023         6.623,18  297          RS\n",
      "\n",
      "[297 rows x 5 columns]\n"
     ]
    }
   ],
   "source": [
    "#Totale popolazione\n",
    "\n",
    "# Percorso del file CSV\n",
    "file_path = \"Totale_popolazione.csv\"\n",
    "\n",
    "# Legge il file CSV con il separatore ';'\n",
    "df = pd.read_csv(file_path, delimiter=';')\n",
    "\n",
    "\n",
    "# Fare il melting delle colonne (trasformare da formato largo a lungo)\n",
    "df_melted = df.melt(id_vars=['countries'], var_name='year', value_name='total_population')\n",
    "\n",
    "# Aggiungere una colonna con un ID univoco per ogni riga\n",
    "df_melted['id'] = range(1, len(df_melted) + 1)\n",
    "\n",
    "#Aggiungere una colonna con le sigle dei paesi\n",
    "df_melted['sigle_paesi'] = df_melted[\"countries\"].map(country_names)\n",
    "\n",
    "# Salva il dataset pulito con le virgole come separatore\n",
    "output_path = \"totale_popolazione_pulito.csv\"\n",
    "df_melted.to_csv(output_path, sep=\",\", index=False)\n",
    "\n",
    "print(df_melted)\n"
   ]
  },
  {
   "cell_type": "code",
   "execution_count": 15,
   "metadata": {},
   "outputs": [
    {
     "name": "stdout",
     "output_type": "stream",
     "text": [
      "          countries         year   employes   id sigle_paesi\n",
      "0           Belgium         2015   3.921,10    1          BE\n",
      "1          Bulgaria         2015   2.530,85    2          BG\n",
      "2           Czechia         2015   4.396,97    3          CZ\n",
      "3           Denmark         2015   2.607,62    4          DK\n",
      "4           Germany         2015  38.631,00    5          DE\n",
      "..              ...          ...        ...  ...         ...\n",
      "358   Liechtenstein  Unnamed: 11        NaN  359          LI\n",
      "359          Norway  Unnamed: 11        NaN  360          NO\n",
      "360     Switzerland  Unnamed: 11        NaN  361          CH\n",
      "361  United Kingdom  Unnamed: 11        NaN  362          UK\n",
      "362          Serbia  Unnamed: 11        NaN  363          RS\n",
      "\n",
      "[363 rows x 5 columns]\n"
     ]
    }
   ],
   "source": [
    "#Occupati\n",
    "\n",
    "# Percorso del file CSV\n",
    "file_path = \"Occupati.csv\"\n",
    "\n",
    "# Legge il file CSV con il separatore ';'\n",
    "df = pd.read_csv(file_path, delimiter=';')\n",
    "\n",
    "\n",
    "# Fare il melting delle colonne (trasformare da formato largo a lungo)\n",
    "df_melted = df.melt(id_vars=['countries'], var_name='year', value_name='employes')\n",
    "\n",
    "# Aggiungere una colonna con un ID univoco per ogni riga\n",
    "df_melted['id'] = range(1, len(df_melted) + 1)\n",
    "\n",
    "#Aggiungere una colonna con le sigle dei paesi\n",
    "df_melted['sigle_paesi'] = df_melted[\"countries\"].map(country_names)\n",
    "\n",
    "# Salva il dataset pulito con le virgole come separatore\n",
    "output_path = \"occupati_pulito.csv\"\n",
    "df_melted.to_csv(output_path, sep=\",\", index=False)\n",
    "\n",
    "print(df_melted)\n"
   ]
  }
 ],
 "metadata": {
  "kernelspec": {
   "display_name": "Daita",
   "language": "python",
   "name": "python3"
  },
  "language_info": {
   "codemirror_mode": {
    "name": "ipython",
    "version": 3
   },
   "file_extension": ".py",
   "mimetype": "text/x-python",
   "name": "python",
   "nbconvert_exporter": "python",
   "pygments_lexer": "ipython3",
   "version": "3.12.8"
  }
 },
 "nbformat": 4,
 "nbformat_minor": 2
}
